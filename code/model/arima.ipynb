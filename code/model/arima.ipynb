{
 "cells": [
  {
   "cell_type": "code",
   "execution_count": 10,
   "metadata": {},
   "outputs": [],
   "source": [
    "import pandas as pd\n",
    "from matplotlib import pyplot\n",
    "from statsmodels.tsa.arima_model import ARIMA\n",
    "import statsmodels.api as sm\n",
    "from statsmodels.tsa.arima_model import ARIMA\n",
    "from sklearn.metrics import mean_squared_error\n",
    "from math import sqrt\n",
    "from tqdm import tqdm\n",
    "import numpy as np\n",
    "import pandas as pd"
   ]
  },
  {
   "cell_type": "code",
   "execution_count": 11,
   "metadata": {},
   "outputs": [],
   "source": [
    "data = pd.read_csv('dataset1.csv')\n",
    "data = data[6000:]\n",
    "X = data['log_ret'].values"
   ]
  },
  {
   "cell_type": "code",
   "execution_count": 12,
   "metadata": {},
   "outputs": [],
   "source": [
    "size = int(len(X) * 0.8)\n",
    "train, test = X[0:size], X[int(len(X) * 0.9):len(X)]"
   ]
  },
  {
   "cell_type": "code",
   "execution_count": null,
   "metadata": {},
   "outputs": [
    {
     "name": "stderr",
     "output_type": "stream",
     "text": [
      "\r",
      "  0%|          | 0/1518 [00:00<?, ?it/s]"
     ]
    }
   ],
   "source": [
    "listrep = [x for x in train]\n",
    "predictions = list()\n",
    "\n",
    "for t in tqdm(range(1,len(test))):\n",
    "    model = ARIMA(endog = listrep, order=(5,1,0))\n",
    "    model_fit = model.fit(disp=0)\n",
    "    output = model_fit.forecast()\n",
    "    yout = output[0]\n",
    "    predictions.append(yout)\n",
    "    obs = test[t]\n",
    "    listrep.append(obs)\n",
    "    #print('predicted=%f, expected=%f' % (yhat, obs))\n",
    "    error = sqrt(mean_squared_error(test[0:t], predictions))\n",
    "    print('Test RMSE: %.8f' % error)"
   ]
  },
  {
   "cell_type": "code",
   "execution_count": null,
   "metadata": {},
   "outputs": [],
   "source": [
    "pyplot.plot(test)\n",
    "pyplot.plot(predictions, color='red')\n",
    "pyplot.show()"
   ]
  },
  {
   "cell_type": "code",
   "execution_count": 22,
   "metadata": {},
   "outputs": [
    {
     "data": {
      "text/plain": [
       "array([-0.0027755 ,  0.00088575, -0.00093412,  0.00831916,  0.00089153,\n",
       "       -0.00079994, -0.00376196,  0.02403262,  0.01768278,  0.00459746])"
      ]
     },
     "execution_count": 22,
     "metadata": {},
     "output_type": "execute_result"
    }
   ],
   "source": []
  },
  {
   "cell_type": "code",
   "execution_count": 71,
   "metadata": {},
   "outputs": [
    {
     "data": {
      "text/html": [
       "<table class=\"simpletable\">\n",
       "<caption>ARIMA Model Results</caption>\n",
       "<tr>\n",
       "  <th>Dep. Variable:</th>        <td>D.y</td>       <th>  No. Observations:  </th>    <td>15182</td>  \n",
       "</tr>\n",
       "<tr>\n",
       "  <th>Model:</th>          <td>ARIMA(5, 1, 0)</td>  <th>  Log Likelihood     </th>  <td>45663.714</td>\n",
       "</tr>\n",
       "<tr>\n",
       "  <th>Method:</th>             <td>css-mle</td>     <th>  S.D. of innovations</th>    <td>0.012</td>  \n",
       "</tr>\n",
       "<tr>\n",
       "  <th>Date:</th>          <td>Thu, 19 Apr 2018</td> <th>  AIC                </th> <td>-91313.429</td>\n",
       "</tr>\n",
       "<tr>\n",
       "  <th>Time:</th>              <td>11:14:36</td>     <th>  BIC                </th> <td>-91260.034</td>\n",
       "</tr>\n",
       "<tr>\n",
       "  <th>Sample:</th>                <td>1</td>        <th>  HQIC               </th> <td>-91295.724</td>\n",
       "</tr>\n",
       "<tr>\n",
       "  <th></th>                       <td> </td>        <th>                     </th>      <td> </td>    \n",
       "</tr>\n",
       "</table>\n",
       "<table class=\"simpletable\">\n",
       "<tr>\n",
       "      <td></td>         <th>coef</th>     <th>std err</th>      <th>z</th>      <th>P>|z|</th>  <th>[0.025</th>    <th>0.975]</th>  \n",
       "</tr>\n",
       "<tr>\n",
       "  <th>const</th>     <td> 3.067e-07</td> <td> 3.22e-05</td> <td>    0.010</td> <td> 0.992</td> <td>-6.28e-05</td> <td> 6.34e-05</td>\n",
       "</tr>\n",
       "<tr>\n",
       "  <th>ar.L1.D.y</th> <td>   -0.5970</td> <td>    0.008</td> <td>  -74.392</td> <td> 0.000</td> <td>   -0.613</td> <td>   -0.581</td>\n",
       "</tr>\n",
       "<tr>\n",
       "  <th>ar.L2.D.y</th> <td>   -0.5752</td> <td>    0.009</td> <td>  -63.122</td> <td> 0.000</td> <td>   -0.593</td> <td>   -0.557</td>\n",
       "</tr>\n",
       "<tr>\n",
       "  <th>ar.L3.D.y</th> <td>   -0.4222</td> <td>    0.010</td> <td>  -43.765</td> <td> 0.000</td> <td>   -0.441</td> <td>   -0.403</td>\n",
       "</tr>\n",
       "<tr>\n",
       "  <th>ar.L4.D.y</th> <td>   -0.2711</td> <td>    0.009</td> <td>  -29.758</td> <td> 0.000</td> <td>   -0.289</td> <td>   -0.253</td>\n",
       "</tr>\n",
       "<tr>\n",
       "  <th>ar.L5.D.y</th> <td>   -0.1498</td> <td>    0.008</td> <td>  -18.663</td> <td> 0.000</td> <td>   -0.165</td> <td>   -0.134</td>\n",
       "</tr>\n",
       "</table>\n",
       "<table class=\"simpletable\">\n",
       "<caption>Roots</caption>\n",
       "<tr>\n",
       "    <td></td>   <th>           Real</th> <th>         Imaginary</th> <th>         Modulus</th> <th>        Frequency</th>\n",
       "</tr>\n",
       "<tr>\n",
       "  <th>AR.1</th>               0.5879                    -1.2217j                    1.3558                   -0.1786     \n",
       "</tr>\n",
       "<tr>\n",
       "  <th>AR.2</th>               0.5879                    +1.2217j                    1.3558                    0.1786     \n",
       "</tr>\n",
       "<tr>\n",
       "  <th>AR.3</th>              -1.5977                    -0.0000j                    1.5977                   -0.5000     \n",
       "</tr>\n",
       "<tr>\n",
       "  <th>AR.4</th>              -0.6942                    -1.3385j                    1.5079                   -0.3261     \n",
       "</tr>\n",
       "<tr>\n",
       "  <th>AR.5</th>              -0.6942                    +1.3385j                    1.5079                    0.3261     \n",
       "</tr>\n",
       "</table>"
      ],
      "text/plain": [
       "<class 'statsmodels.iolib.summary.Summary'>\n",
       "\"\"\"\n",
       "                             ARIMA Model Results                              \n",
       "==============================================================================\n",
       "Dep. Variable:                    D.y   No. Observations:                15182\n",
       "Model:                 ARIMA(5, 1, 0)   Log Likelihood               45663.714\n",
       "Method:                       css-mle   S.D. of innovations              0.012\n",
       "Date:                Thu, 19 Apr 2018   AIC                         -91313.429\n",
       "Time:                        11:14:36   BIC                         -91260.034\n",
       "Sample:                             1   HQIC                        -91295.724\n",
       "                                                                              \n",
       "==============================================================================\n",
       "                 coef    std err          z      P>|z|      [0.025      0.975]\n",
       "------------------------------------------------------------------------------\n",
       "const       3.067e-07   3.22e-05      0.010      0.992   -6.28e-05    6.34e-05\n",
       "ar.L1.D.y     -0.5970      0.008    -74.392      0.000      -0.613      -0.581\n",
       "ar.L2.D.y     -0.5752      0.009    -63.122      0.000      -0.593      -0.557\n",
       "ar.L3.D.y     -0.4222      0.010    -43.765      0.000      -0.441      -0.403\n",
       "ar.L4.D.y     -0.2711      0.009    -29.758      0.000      -0.289      -0.253\n",
       "ar.L5.D.y     -0.1498      0.008    -18.663      0.000      -0.165      -0.134\n",
       "                                    Roots                                    \n",
       "=============================================================================\n",
       "                 Real           Imaginary           Modulus         Frequency\n",
       "-----------------------------------------------------------------------------\n",
       "AR.1            0.5879           -1.2217j            1.3558           -0.1786\n",
       "AR.2            0.5879           +1.2217j            1.3558            0.1786\n",
       "AR.3           -1.5977           -0.0000j            1.5977           -0.5000\n",
       "AR.4           -0.6942           -1.3385j            1.5079           -0.3261\n",
       "AR.5           -0.6942           +1.3385j            1.5079            0.3261\n",
       "-----------------------------------------------------------------------------\n",
       "\"\"\""
      ]
     },
     "execution_count": 71,
     "metadata": {},
     "output_type": "execute_result"
    }
   ],
   "source": [
    "model_fit.summary()"
   ]
  },
  {
   "cell_type": "code",
   "execution_count": null,
   "metadata": {},
   "outputs": [],
   "source": []
  }
 ],
 "metadata": {
  "kernelspec": {
   "display_name": "Python 3",
   "language": "python",
   "name": "python3"
  },
  "language_info": {
   "codemirror_mode": {
    "name": "ipython",
    "version": 3
   },
   "file_extension": ".py",
   "mimetype": "text/x-python",
   "name": "python",
   "nbconvert_exporter": "python",
   "pygments_lexer": "ipython3",
   "version": "3.6.3"
  }
 },
 "nbformat": 4,
 "nbformat_minor": 2
}
