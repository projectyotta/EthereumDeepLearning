{
 "cells": [
  {
   "cell_type": "code",
   "execution_count": 38,
   "metadata": {
    "collapsed": true
   },
   "outputs": [],
   "source": [
    "import pandas as pd \n",
    "import networkx as nx \n",
    "import datetime"
   ]
  },
  {
   "cell_type": "code",
   "execution_count": 40,
   "metadata": {
    "collapsed": true
   },
   "outputs": [],
   "source": [
    "data = pd.read_csv('C:\\\\Users\\\\raosa\\\\Dropbox\\\\data\\\\combined\\\\5.csv')\n"
   ]
  },
  {
   "cell_type": "code",
   "execution_count": 41,
   "metadata": {},
   "outputs": [],
   "source": [
    "for i in range(0,len(data)):\n",
    "    data['value'][i] = int(data['value'][i],16)"
   ]
  },
  {
   "cell_type": "code",
   "execution_count": 42,
   "metadata": {},
   "outputs": [],
   "source": [
    "for i in range(0,len(data)):\n",
    "    data['timestamp'][i] = int(str(data['timestamp'][i]),16)\n",
    "    data['timestamp'][i] = datetime.datetime.fromtimestamp(data['timestamp'][i])\n"
   ]
  },
  {
   "cell_type": "code",
   "execution_count": 50,
   "metadata": {
    "collapsed": true
   },
   "outputs": [],
   "source": [
    "data['timestamp'] = pd.to_datetime(data['timestamp'])"
   ]
  },
  {
   "cell_type": "code",
   "execution_count": 51,
   "metadata": {
    "collapsed": true
   },
   "outputs": [],
   "source": [
    "data['value'] = data['value']/1000000000000000"
   ]
  },
  {
   "cell_type": "code",
   "execution_count": 52,
   "metadata": {},
   "outputs": [
    {
     "data": {
      "text/html": [
       "<div>\n",
       "<style>\n",
       "    .dataframe thead tr:only-child th {\n",
       "        text-align: right;\n",
       "    }\n",
       "\n",
       "    .dataframe thead th {\n",
       "        text-align: left;\n",
       "    }\n",
       "\n",
       "    .dataframe tbody tr th {\n",
       "        vertical-align: top;\n",
       "    }\n",
       "</style>\n",
       "<table border=\"1\" class=\"dataframe\">\n",
       "  <thead>\n",
       "    <tr style=\"text-align: right;\">\n",
       "      <th></th>\n",
       "      <th>from</th>\n",
       "      <th>gas</th>\n",
       "      <th>gasprice</th>\n",
       "      <th>input</th>\n",
       "      <th>to</th>\n",
       "      <th>value</th>\n",
       "      <th>gas_used</th>\n",
       "      <th>miner</th>\n",
       "      <th>number</th>\n",
       "      <th>timestamp</th>\n",
       "    </tr>\n",
       "  </thead>\n",
       "  <tbody>\n",
       "    <tr>\n",
       "      <th>0</th>\n",
       "      <td>0x4bb96091ee9d802ed039c4d1a5f6216f90f81b01</td>\n",
       "      <td>0xa028</td>\n",
       "      <td>0xba43b7400</td>\n",
       "      <td>0x</td>\n",
       "      <td>0xc8fea4ab769162f6f7eafb8c2bd49734a03c60ef</td>\n",
       "      <td>4.95312e-12</td>\n",
       "      <td>0x5208</td>\n",
       "      <td>0xa027231f42c80ca4125b5cb962a21cd4f812e88f</td>\n",
       "      <td>0x61a84</td>\n",
       "      <td>2015-10-17 21:04:00</td>\n",
       "    </tr>\n",
       "    <tr>\n",
       "      <th>1</th>\n",
       "      <td>0xf0c896db24137eda6ec88cf1a95217f8604ae55e</td>\n",
       "      <td>0x5208</td>\n",
       "      <td>0xba43b7400</td>\n",
       "      <td>0x</td>\n",
       "      <td>0x32be343b94f860124dc4fee278fdcbd38c102d88</td>\n",
       "      <td>5.15345e-12</td>\n",
       "      <td>0x5208</td>\n",
       "      <td>0x4bb96091ee9d802ed039c4d1a5f6216f90f81b01</td>\n",
       "      <td>0x61a87</td>\n",
       "      <td>2015-10-17 21:04:38</td>\n",
       "    </tr>\n",
       "    <tr>\n",
       "      <th>2</th>\n",
       "      <td>0xa8de16847eee1677ee36d85f2cac8bf9717b2d39</td>\n",
       "      <td>0x5208</td>\n",
       "      <td>0xba43b7400</td>\n",
       "      <td>0x</td>\n",
       "      <td>0xc47aaa860008be6f65b58c6c6e02a84e666efe31</td>\n",
       "      <td>4.11671e-12</td>\n",
       "      <td>0x5208</td>\n",
       "      <td>0xa5a57098907037cd613d46c2c2ca3e65752d906e</td>\n",
       "      <td>0x61a8a</td>\n",
       "      <td>2015-10-17 21:05:02</td>\n",
       "    </tr>\n",
       "    <tr>\n",
       "      <th>3</th>\n",
       "      <td>0x63a9975ba31b0b9626b34300f7f627147df1f526</td>\n",
       "      <td>0x15f90</td>\n",
       "      <td>0xba43b7400</td>\n",
       "      <td>0x</td>\n",
       "      <td>0x7c5080988c6d91d090c23d54740f856c69450b29</td>\n",
       "      <td>3.96905e-14</td>\n",
       "      <td>0x1490c9</td>\n",
       "      <td>0x2a65aca4d5fc5b5c859090a6c34d164135398226</td>\n",
       "      <td>0x61a8b</td>\n",
       "      <td>2015-10-17 21:05:31</td>\n",
       "    </tr>\n",
       "    <tr>\n",
       "      <th>4</th>\n",
       "      <td>0x2dc26594856920611cc59e1fd47f8a4463f3cad5</td>\n",
       "      <td>0x5208</td>\n",
       "      <td>0xba43b7400</td>\n",
       "      <td>0x</td>\n",
       "      <td>0xc47aaa860008be6f65b58c6c6e02a84e666efe31</td>\n",
       "      <td>4.45852e-12</td>\n",
       "      <td>0x1490c9</td>\n",
       "      <td>0x2a65aca4d5fc5b5c859090a6c34d164135398226</td>\n",
       "      <td>0x61a8b</td>\n",
       "      <td>2015-10-17 21:05:31</td>\n",
       "    </tr>\n",
       "  </tbody>\n",
       "</table>\n",
       "</div>"
      ],
      "text/plain": [
       "                                         from      gas     gasprice input  \\\n",
       "0  0x4bb96091ee9d802ed039c4d1a5f6216f90f81b01   0xa028  0xba43b7400    0x   \n",
       "1  0xf0c896db24137eda6ec88cf1a95217f8604ae55e   0x5208  0xba43b7400    0x   \n",
       "2  0xa8de16847eee1677ee36d85f2cac8bf9717b2d39   0x5208  0xba43b7400    0x   \n",
       "3  0x63a9975ba31b0b9626b34300f7f627147df1f526  0x15f90  0xba43b7400    0x   \n",
       "4  0x2dc26594856920611cc59e1fd47f8a4463f3cad5   0x5208  0xba43b7400    0x   \n",
       "\n",
       "                                           to        value  gas_used  \\\n",
       "0  0xc8fea4ab769162f6f7eafb8c2bd49734a03c60ef  4.95312e-12    0x5208   \n",
       "1  0x32be343b94f860124dc4fee278fdcbd38c102d88  5.15345e-12    0x5208   \n",
       "2  0xc47aaa860008be6f65b58c6c6e02a84e666efe31  4.11671e-12    0x5208   \n",
       "3  0x7c5080988c6d91d090c23d54740f856c69450b29  3.96905e-14  0x1490c9   \n",
       "4  0xc47aaa860008be6f65b58c6c6e02a84e666efe31  4.45852e-12  0x1490c9   \n",
       "\n",
       "                                        miner   number           timestamp  \n",
       "0  0xa027231f42c80ca4125b5cb962a21cd4f812e88f  0x61a84 2015-10-17 21:04:00  \n",
       "1  0x4bb96091ee9d802ed039c4d1a5f6216f90f81b01  0x61a87 2015-10-17 21:04:38  \n",
       "2  0xa5a57098907037cd613d46c2c2ca3e65752d906e  0x61a8a 2015-10-17 21:05:02  \n",
       "3  0x2a65aca4d5fc5b5c859090a6c34d164135398226  0x61a8b 2015-10-17 21:05:31  \n",
       "4  0x2a65aca4d5fc5b5c859090a6c34d164135398226  0x61a8b 2015-10-17 21:05:31  "
      ]
     },
     "execution_count": 52,
     "metadata": {},
     "output_type": "execute_result"
    }
   ],
   "source": []
  },
  {
   "cell_type": "code",
   "execution_count": 94,
   "metadata": {},
   "outputs": [],
   "source": [
    "hour_tranlist = data[(data['timestamp'] > '2015-10-19 10:00:00') & (data['timestamp'] < '2015-10-19 11:00:00')]"
   ]
  },
  {
   "cell_type": "code",
   "execution_count": null,
   "metadata": {},
   "outputs": [],
   "source": []
  },
  {
   "cell_type": "code",
   "execution_count": null,
   "metadata": {},
   "outputs": [],
   "source": []
  },
  {
   "cell_type": "code",
   "execution_count": 95,
   "metadata": {},
   "outputs": [],
   "source": [
    "list1 = hour_tranlist['from']\n",
    "list2 = hour_tranlist['to']\n",
    "nodes = list(set(list1 + list2))\n",
    "G = nx.Graph()\n",
    "G.add_nodes_from(nodes)\n",
    "G.add_edges_from(list(zip(list1,list2)),weight=data['value'])\n"
   ]
  },
  {
   "cell_type": "code",
   "execution_count": 96,
   "metadata": {},
   "outputs": [],
   "source": [
    "string1=nx.info(G)"
   ]
  },
  {
   "cell_type": "code",
   "execution_count": 97,
   "metadata": {},
   "outputs": [
    {
     "name": "stdout",
     "output_type": "stream",
     "text": [
      " 363\n"
     ]
    }
   ],
   "source": [
    "start = 'nodes:'\n",
    "end = '\\n'\n",
    "\n",
    "print((string1.split(start))[1].split(end)[0])\n"
   ]
  },
  {
   "cell_type": "code",
   "execution_count": 98,
   "metadata": {},
   "outputs": [
    {
     "data": {
      "text/plain": [
       "1.1074380165289257"
      ]
     },
     "execution_count": 98,
     "metadata": {},
     "output_type": "execute_result"
    }
   ],
   "source": [
    "nx.number_of_edges(G)\n",
    "nx.number_of_nodes(G)\n",
    "# average degree of the network \n",
    "sum(dict(G.degree()).values()) / nx.number_of_nodes(G)\n"
   ]
  },
  {
   "cell_type": "code",
   "execution_count": 100,
   "metadata": {},
   "outputs": [
    {
     "data": {
      "text/plain": [
       "363"
      ]
     },
     "execution_count": 100,
     "metadata": {},
     "output_type": "execute_result"
    }
   ],
   "source": [
    "len(nx.adjacency_spectrum(G, weight='value'))"
   ]
  },
  {
   "cell_type": "code",
   "execution_count": null,
   "metadata": {
    "collapsed": true
   },
   "outputs": [],
   "source": []
  }
 ],
 "metadata": {
  "kernelspec": {
   "display_name": "Python 3",
   "language": "python",
   "name": "python3"
  },
  "language_info": {
   "codemirror_mode": {
    "name": "ipython",
    "version": 3
   },
   "file_extension": ".py",
   "mimetype": "text/x-python",
   "name": "python",
   "nbconvert_exporter": "python",
   "pygments_lexer": "ipython3",
   "version": "3.6.4"
  }
 },
 "nbformat": 4,
 "nbformat_minor": 2
}
