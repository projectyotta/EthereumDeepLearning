{
 "cells": [
  {
   "cell_type": "code",
   "execution_count": 4,
   "metadata": {
    "collapsed": true
   },
   "outputs": [],
   "source": [
    "from PIL import Image\n",
    "import numpy \n",
    "\n",
    "w, h = 512, 512\n",
    "data = np.zeros((h, w, 3), dtype=np.uint8)\n",
    "data[256, 256] = [255, 0, 0]\n",
    "img = Image.fromarray(data, 'RGB')\n",
    "img.save('my.png')\n",
    "img.show()"
   ]
  },
  {
   "cell_type": "code",
   "execution_count": 27,
   "metadata": {
    "collapsed": true
   },
   "outputs": [],
   "source": [
    "import numpy \n",
    "import cv2\n",
    "img = numpy.zeros([5,5,3])\n",
    "\n",
    "# img[:,:,0] = numpy.ones([5,5])*64/255.0\n",
    "# img[:,:,1] = numpy.ones([5,5])*128/255.0\n",
    "# img[:,:,2] = numpy.ones([5,5])*192/255.0\n",
    "\n",
    "cv2.imwrite('color_img.jpg', img)\n",
    "cv2.imshow(\"image\", img);\n",
    "cv2.waitKey();"
   ]
  },
  {
   "cell_type": "code",
   "execution_count": 31,
   "metadata": {},
   "outputs": [
    {
     "name": "stdout",
     "output_type": "stream",
     "text": [
      "(3264, 4928, 3)\n"
     ]
    }
   ],
   "source": [
    "# np_array=[1,2,3,4,5]\n",
    "# import scipy.misc\n",
    "# rgb = scipy.misc.toimage()\n",
    "\n",
    "from PIL import Image\n",
    "import numpy\n",
    "im = Image.open(\"DSC_0465.JPG\")\n",
    "np_im = numpy.array(im)\n",
    "print (np_im.shape)\n",
    "(200, 400, 3)\n",
    "np_im = np_im - 18\n",
    "new_im = Image.fromarray(np_im)\n",
    "new_im.save(\"numpy_altered_sample2.png\")\n",
    "\n",
    "\n",
    "\n"
   ]
  },
  {
   "cell_type": "code",
   "execution_count": 33,
   "metadata": {
    "collapsed": true
   },
   "outputs": [],
   "source": [
    "basewidth = 300\n",
    "img = new_im\n",
    "wpercent = (basewidth/float(img.size[0]))\n",
    "hsize = int((float(img.size[1])*float(wpercent)))\n",
    "img = img.resize((basewidth,hsize), Image.ANTIALIAS)\n",
    "img.save('sompic.jpg') "
   ]
  },
  {
   "cell_type": "code",
   "execution_count": null,
   "metadata": {
    "collapsed": true
   },
   "outputs": [],
   "source": []
  }
 ],
 "metadata": {
  "kernelspec": {
   "display_name": "Python 3",
   "language": "python",
   "name": "python3"
  },
  "language_info": {
   "codemirror_mode": {
    "name": "ipython",
    "version": 3
   },
   "file_extension": ".py",
   "mimetype": "text/x-python",
   "name": "python",
   "nbconvert_exporter": "python",
   "pygments_lexer": "ipython3",
   "version": "3.6.3"
  }
 },
 "nbformat": 4,
 "nbformat_minor": 2
}
